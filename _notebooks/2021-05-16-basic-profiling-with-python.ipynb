{
 "cells": [
  {
   "cell_type": "markdown",
   "id": "1b4d6a72",
   "metadata": {},
   "source": [
    "I'm going to give a demonstration of some basic techniques and principles for optimising your Python code (i.e. making it run faster), with the example of calculataing prime numbers under 10000. Let's begin with a straightforward way to calculate primes:\n",
    "\n",
    "As a reminder, a prime number is a natural number ($\\mathbb{N}$) that is greater than 1 and is not the product of two smaller natural numbers.\n",
    "\n",
    "In order to determine whether a number is the product of two smaller natural numbers, we can use the _modulo_ operator `%`, which given $a \\% b$, outputs the remainder of $a/b$. Here's an example:"
   ]
  },
  {
   "cell_type": "code",
   "execution_count": 1,
   "id": "7e8dd9c4",
   "metadata": {},
   "outputs": [
    {
     "name": "stdout",
     "output_type": "stream",
     "text": [
      "1\n",
      "0\n",
      "2\n"
     ]
    }
   ],
   "source": [
    "print(3 % 2)\n",
    "print (5 % 5)\n",
    "print (10 % 4)"
   ]
  },
  {
   "cell_type": "markdown",
   "id": "483b5325",
   "metadata": {},
   "source": [
    "Now to generate our list of primes, I propose the following algorithm:\n",
    "\n",
    "- INITIALIZATION:\n",
    "    - Container of prime numbers found thus far. Insert the first prime, $2$.\n",
    "    - Set flag `isPrime` to `True`\n",
    "- ITERATION: FOR all integers `i` greater than 2 and less than 10000:\n",
    "    - ITERATION FOR: each prime number already found `p`\n",
    "        - CONDITION: IF $i\\%p=0$:\n",
    "            - Set flag `isPrime` to `False`\n",
    "    - END ITERATION:\n",
    "        - CONDITION: IF `isPrime` is `True`\n",
    "            - Append `p` to list of prime numbers\n",
    "            - Reset flat to initialization\n",
    "- END ITERATION\n",
    "\n",
    "In words, I check whether each number is divisible with zero remainder by all the primes less than itself. If it is, then I add it to the list of primes.\n",
    "\n",
    "One might note that there is a lot of redundancy in this algorithm; we will get to that."
   ]
  },
  {
   "cell_type": "code",
   "execution_count": 2,
   "id": "929f89c2",
   "metadata": {},
   "outputs": [],
   "source": [
    "isPrime = True\n",
    "primes = [2] # An empty list\n",
    "\n",
    "for i in range(3, 10001): # Start from 1, finish at 10000\n",
    "    # Check if divisible with no remainder from existing arguments\n",
    "    for p in primes:\n",
    "        # Here we need some kind of conditional logic. I will use 'if' again.\n",
    "        if i % p == 0: # If zero remainder, then multiple and not prime\n",
    "            isPrime = False\n",
    "        # After all primes checked, if still isPrime=True, then we can append\n",
    "    if isPrime == True:\n",
    "        primes.append(i)\n",
    "    isPrime = True # Resetting the 'trigger'"
   ]
  },
  {
   "cell_type": "markdown",
   "id": "aece79c0",
   "metadata": {},
   "source": [
    "Now here's the first trick for optimising code: the `%%timeit` magic available in iPython. This returns the average of how long it takes to run a code block, trying several runs:"
   ]
  },
  {
   "cell_type": "code",
   "execution_count": 3,
   "id": "ccb23ae8",
   "metadata": {},
   "outputs": [
    {
     "name": "stdout",
     "output_type": "stream",
     "text": [
      "354 ms ± 57.8 ms per loop (mean ± std. dev. of 7 runs, 1 loop each)\n"
     ]
    }
   ],
   "source": [
    "%%timeit\n",
    "\n",
    "isPrime = True\n",
    "primes = [2] # An empty list\n",
    "\n",
    "for i in range(3, 10001): # Start from 1, finish at 10000\n",
    "    # Check if divisible with no remainder from existing arguments\n",
    "    for p in primes:\n",
    "        # Here we need some kind of conditional logic. I will use 'if' again.\n",
    "        if i % p == 0: # If zero remainder, then multiple and not prime\n",
    "            isPrime = False\n",
    "        # After all primes checked, if still isPrime=True, then we can append\n",
    "    if isPrime == True:\n",
    "        primes.append(i)\n",
    "    isPrime = True # Resetting the 'trigger'"
   ]
  },
  {
   "cell_type": "markdown",
   "id": "cc4ba414",
   "metadata": {},
   "source": [
    "The output of `%%timeit` tells us that the above way of finding all prime numbers less than 10000 takes 281 milliseconds on average, with a standard deviation of 2.23 milliseconds. It also tells us that it ran the code 7 times. (Note that I have am running this on a relatively normal laptop with an i7-8550u (1.8GHz) processor. In fact, the single core speed is relatively slow on this laptop, which is a disadvantage for Python. But I'll get to that.)\n",
    "\n",
    "## Step 1: Reducing Redundant Calculations\n",
    "\n",
    "The code we have here is a _nested for-loop_. As you might now, a for-loop is a structure that runs the same operation for each element of an array. A nested for-loop is a for-loop inside another for-loop. So for each element of the outer array, we run another loop over some other array.\n",
    "\n",
    "In this example, the outer array is all numbers between 3 and 10000, and the inner array is a growing list of prime numbers. Note that this also means that while the time each operation within the inner loop takes should remain more or less constant, the time taken for each iteration of the outer loop will grow because the length of the inner array increases each time a new prime is found.\n",
    "\n",
    "In much simpler terms: when there is only one prime, each inner loop (checking $i$ against all prime numbers found thus far) is a single loop. As the number of primes grows, the length of time taken to check each of the primes found thus far accordingly grows. So earlier loops take less time than later ones.\n",
    "\n",
    "We can reduce the total time taken by decreasing the total number of iterations. An obvious first step is to reduce the outer array by excluding all even numbers; we know that they aren't prime, so no need to check."
   ]
  },
  {
   "cell_type": "code",
   "execution_count": 4,
   "id": "392793d6",
   "metadata": {},
   "outputs": [
    {
     "name": "stdout",
     "output_type": "stream",
     "text": [
      "192 ms ± 37.3 ms per loop (mean ± std. dev. of 7 runs, 1 loop each)\n"
     ]
    }
   ],
   "source": [
    "%%timeit\n",
    "\n",
    "isPrime = True\n",
    "primes = [2]\n",
    "\n",
    "for i in range(3, 10001, 2): # Third argument is step\n",
    "    for p in primes:\n",
    "        if i % p == 0:\n",
    "            isPrime = False\n",
    "    if isPrime == True:\n",
    "        primes.append(i)\n",
    "    isPrime = True"
   ]
  },
  {
   "cell_type": "markdown",
   "id": "0cc6c831",
   "metadata": {},
   "source": [
    "That nearly halved the time it took to run, which makes sense; we roughly halved the number of total loops it needed to make.\n",
    "\n",
    "But the inner loop can be sped up as well. Note that once we find that $i$ is divisible by some $p$, then it is not necessary to check subsequent values of $p$. We can end the inner loop early using a `break` statement."
   ]
  },
  {
   "cell_type": "code",
   "execution_count": 5,
   "id": "e48e08ce",
   "metadata": {},
   "outputs": [
    {
     "name": "stdout",
     "output_type": "stream",
     "text": [
      "41.7 ms ± 2.77 ms per loop (mean ± std. dev. of 7 runs, 10 loops each)\n"
     ]
    }
   ],
   "source": [
    "%%timeit\n",
    "\n",
    "isPrime = True\n",
    "primes = [2]\n",
    "\n",
    "for i in range(3, 10001, 2):\n",
    "    for p in primes:\n",
    "        if i % p == 0:\n",
    "            isPrime = False\n",
    "            break\n",
    "    if isPrime == True:\n",
    "        primes.append(i)\n",
    "    isPrime = True"
   ]
  },
  {
   "cell_type": "markdown",
   "id": "127eba40",
   "metadata": {},
   "source": [
    "We've cut it down again by a factor of 5! (Not five factorial.)\n",
    "\n",
    "Finally, we can cut down the number of calculations even further by excluding all primes larger than the square root of $i$. I add another conditional and break:"
   ]
  },
  {
   "cell_type": "code",
   "execution_count": 6,
   "id": "3e6bec82",
   "metadata": {},
   "outputs": [
    {
     "name": "stdout",
     "output_type": "stream",
     "text": [
      "6.38 ms ± 338 µs per loop (mean ± std. dev. of 7 runs, 100 loops each)\n"
     ]
    }
   ],
   "source": [
    "%%timeit\n",
    "\n",
    "isPrime = True\n",
    "primes = [2]\n",
    "\n",
    "for i in range(3, 10001, 2):\n",
    "    for p in primes:\n",
    "        if i % p == 0:\n",
    "            isPrime = False\n",
    "            break\n",
    "        if p > (i**0.5): # Exclude all p > sqrt(i)\n",
    "            break\n",
    "    if isPrime == True:\n",
    "        primes.append(i)\n",
    "    isPrime = True"
   ]
  },
  {
   "cell_type": "markdown",
   "id": "dea96239",
   "metadata": {},
   "source": [
    "Without introducing any new libraries or tools, we've sped up our code to be roughly 40 times faster. Moreover, these gains will increase as we try to increase the total number of primes we are trying to find.\n",
    "\n",
    "## Step 2: Identifying Expensive Calculations\n",
    "\n",
    "We've eliminated a big chunk of the running time by just removing redundant calculations. The next step is identifying what calculations are taking a lot of time.\n",
    "\n",
    "Here a knowledge of different libraries and tools is useful. Python provides endless options for numerical arrays, and many boast of their speed and performance.\n",
    "\n",
    "I will compare four different options for storing integers:\n",
    "\n",
    "- Lists\n",
    "- Deques\n",
    "- `numpy` arrays\n",
    "- `pandas` Series\n",
    "\n",
    "Lists are the basic Python mutable array. Deques are another base Python array (from the `collections` library) designed to be faster for appends and other operations on the ends of the array. `numpy` arrays are a standard container for numerical arrays used for numerical computing, and `pandas` is our old-time favourite 1-dimensional data container.\n",
    "\n",
    "Let's compare the time it takes. (I'll put it into a function to make it a bit more concise)."
   ]
  },
  {
   "cell_type": "code",
   "execution_count": 7,
   "id": "4fb06407",
   "metadata": {},
   "outputs": [],
   "source": [
    "from collections import deque\n",
    "import numpy as np\n",
    "import pandas as pd\n",
    "\n",
    "def calculate_primes(lower=3, upper=10001, container='list'):\n",
    "    if container=='list':\n",
    "        primes = list()\n",
    "        primes.append(2)\n",
    "    elif container=='deque':\n",
    "        primes = deque()\n",
    "        primes.append(2)\n",
    "    elif container=='numpy':\n",
    "        primes = np.array([2])\n",
    "    elif container=='pandas':\n",
    "        primes = pd.Series(2)\n",
    "\n",
    "    isPrime = True\n",
    "    for i in range(lower, upper, 2):\n",
    "        for p in primes:\n",
    "            if i % p == 0:\n",
    "                isPrime = False\n",
    "                break\n",
    "            if p > (i**0.5): # Exclude all p > sqrt(i)\n",
    "                break\n",
    "        if isPrime == True:\n",
    "            if container=='numpy':\n",
    "                primes = np.append(primes, i)\n",
    "            elif container=='pandas':\n",
    "                primes = primes.append(pd.Series(i))\n",
    "            else:\n",
    "                primes.append(i)\n",
    "        isPrime = True\n",
    "    #return primes"
   ]
  },
  {
   "cell_type": "code",
   "execution_count": 8,
   "id": "8ab8f83b",
   "metadata": {},
   "outputs": [
    {
     "name": "stdout",
     "output_type": "stream",
     "text": [
      "6 ms ± 379 µs per loop (mean ± std. dev. of 7 runs, 100 loops each)\n"
     ]
    }
   ],
   "source": [
    "%%timeit\n",
    "calculate_primes(container='list')"
   ]
  },
  {
   "cell_type": "code",
   "execution_count": 9,
   "id": "32222a74",
   "metadata": {},
   "outputs": [
    {
     "name": "stdout",
     "output_type": "stream",
     "text": [
      "6.64 ms ± 306 µs per loop (mean ± std. dev. of 7 runs, 100 loops each)\n"
     ]
    }
   ],
   "source": [
    "%%timeit\n",
    "calculate_primes(container='list')"
   ]
  },
  {
   "cell_type": "code",
   "execution_count": 10,
   "id": "b8d92a46",
   "metadata": {},
   "outputs": [
    {
     "name": "stdout",
     "output_type": "stream",
     "text": [
      "62.5 ms ± 367 µs per loop (mean ± std. dev. of 7 runs, 10 loops each)\n"
     ]
    }
   ],
   "source": [
    "%%timeit\n",
    "calculate_primes(container='numpy')"
   ]
  },
  {
   "cell_type": "code",
   "execution_count": 11,
   "id": "f9bfef58",
   "metadata": {},
   "outputs": [
    {
     "name": "stdout",
     "output_type": "stream",
     "text": [
      "376 ms ± 2.93 ms per loop (mean ± std. dev. of 7 runs, 1 loop each)\n"
     ]
    }
   ],
   "source": [
    "%%timeit\n",
    "calculate_primes(container='pandas')"
   ]
  },
  {
   "cell_type": "markdown",
   "id": "9472289d",
   "metadata": {},
   "source": [
    "What's going on? `numpy` and `pandas` were much slower than deques or lists!\n",
    "\n",
    "We can use the %prun magic to break this down. This runs a _profiler_, which tracks all the individual function calls."
   ]
  },
  {
   "cell_type": "code",
   "execution_count": 12,
   "id": "da6e7184",
   "metadata": {},
   "outputs": [
    {
     "name": "stdout",
     "output_type": "stream",
     "text": [
      " "
     ]
    },
    {
     "data": {
      "text/plain": [
       "         1233 function calls in 0.010 seconds\n",
       "\n",
       "   Ordered by: internal time\n",
       "\n",
       "   ncalls  tottime  percall  cumtime  percall filename:lineno(function)\n",
       "        1    0.010    0.010    0.010    0.010 <ipython-input-7-51b6ef22377d>:5(calculate_primes)\n",
       "     1229    0.000    0.000    0.000    0.000 {method 'append' of 'list' objects}\n",
       "        1    0.000    0.000    0.010    0.010 {built-in method builtins.exec}\n",
       "        1    0.000    0.000    0.010    0.010 <string>:1(<module>)\n",
       "        1    0.000    0.000    0.000    0.000 {method 'disable' of '_lsprof.Profiler' objects}"
      ]
     },
     "metadata": {},
     "output_type": "display_data"
    }
   ],
   "source": [
    "%prun calculate_primes(container='list')"
   ]
  },
  {
   "cell_type": "code",
   "execution_count": 13,
   "id": "3c40cb34",
   "metadata": {},
   "outputs": [
    {
     "name": "stdout",
     "output_type": "stream",
     "text": [
      " "
     ]
    },
    {
     "data": {
      "text/plain": [
       "         1233 function calls in 0.007 seconds\n",
       "\n",
       "   Ordered by: internal time\n",
       "\n",
       "   ncalls  tottime  percall  cumtime  percall filename:lineno(function)\n",
       "        1    0.007    0.007    0.007    0.007 <ipython-input-7-51b6ef22377d>:5(calculate_primes)\n",
       "     1229    0.000    0.000    0.000    0.000 {method 'append' of 'collections.deque' objects}\n",
       "        1    0.000    0.000    0.007    0.007 {built-in method builtins.exec}\n",
       "        1    0.000    0.000    0.007    0.007 <string>:1(<module>)\n",
       "        1    0.000    0.000    0.000    0.000 {method 'disable' of '_lsprof.Profiler' objects}"
      ]
     },
     "metadata": {},
     "output_type": "display_data"
    }
   ],
   "source": [
    "%prun calculate_primes(container='deque')"
   ]
  },
  {
   "cell_type": "markdown",
   "id": "0bb1f008",
   "metadata": {},
   "source": [
    "We can see that deque and list are pretty similar in terms of the number of function calls. This makes sense, as both are base python objects (and do not rely on underlying objects)."
   ]
  },
  {
   "cell_type": "code",
   "execution_count": 14,
   "id": "71ee2bd7",
   "metadata": {},
   "outputs": [
    {
     "name": "stdout",
     "output_type": "stream",
     "text": [
      " "
     ]
    },
    {
     "data": {
      "text/plain": [
       "         20881 function calls (18425 primitive calls) in 0.084 seconds\n",
       "\n",
       "   Ordered by: internal time\n",
       "\n",
       "   ncalls  tottime  percall  cumtime  percall filename:lineno(function)\n",
       "        1    0.067    0.067    0.084    0.084 <ipython-input-7-51b6ef22377d>:5(calculate_primes)\n",
       "3684/1228    0.007    0.000    0.016    0.000 {built-in method numpy.core._multiarray_umath.implement_array_function}\n",
       "     2457    0.002    0.000    0.002    0.000 {built-in method numpy.array}\n",
       "     1228    0.002    0.000    0.015    0.000 function_base.py:4690(append)\n",
       "     1228    0.001    0.000    0.004    0.000 fromnumeric.py:1716(ravel)\n",
       "     1228    0.001    0.000    0.007    0.000 <__array_function__ internals>:2(concatenate)\n",
       "     1228    0.001    0.000    0.017    0.000 <__array_function__ internals>:2(append)\n",
       "     1228    0.001    0.000    0.001    0.000 {method 'ravel' of 'numpy.ndarray' objects}\n",
       "     2456    0.001    0.000    0.003    0.000 _asarray.py:110(asanyarray)\n",
       "     1228    0.001    0.000    0.005    0.000 <__array_function__ internals>:2(ravel)\n",
       "     1228    0.000    0.000    0.000    0.000 {built-in method builtins.isinstance}\n",
       "     1228    0.000    0.000    0.000    0.000 function_base.py:4686(_append_dispatcher)\n",
       "     1228    0.000    0.000    0.000    0.000 multiarray.py:143(concatenate)\n",
       "     1228    0.000    0.000    0.000    0.000 fromnumeric.py:1712(_ravel_dispatcher)\n",
       "        1    0.000    0.000    0.084    0.084 {built-in method builtins.exec}\n",
       "        1    0.000    0.000    0.084    0.084 <string>:1(<module>)\n",
       "        1    0.000    0.000    0.000    0.000 {method 'disable' of '_lsprof.Profiler' objects}"
      ]
     },
     "metadata": {},
     "output_type": "display_data"
    }
   ],
   "source": [
    "%prun calculate_primes(container='numpy')"
   ]
  },
  {
   "cell_type": "markdown",
   "id": "c90dc9b0",
   "metadata": {},
   "source": [
    "Whereas the previous examples only ran 1233 calls, `numpy`  requires 20881 calls! It looks like resizing a `numpy` array is quite an expensive thing to do (which we should have already known)."
   ]
  },
  {
   "cell_type": "code",
   "execution_count": 15,
   "id": "01d07145",
   "metadata": {},
   "outputs": [
    {
     "name": "stdout",
     "output_type": "stream",
     "text": [
      " "
     ]
    },
    {
     "data": {
      "text/plain": [
       "         1125028 function calls (1118884 primitive calls) in 0.679 seconds\n",
       "\n",
       "   Ordered by: internal time\n",
       "\n",
       "   ncalls  tottime  percall  cumtime  percall filename:lineno(function)\n",
       "   219923    0.054    0.000    0.085    0.000 {built-in method builtins.isinstance}\n",
       "     2457    0.023    0.000    0.389    0.000 series.py:209(__init__)\n",
       "    79831    0.020    0.000    0.030    0.000 generic.py:30(_check)\n",
       "        1    0.020    0.020    0.679    0.679 <ipython-input-7-51b6ef22377d>:5(calculate_primes)\n",
       "     4913    0.019    0.000    0.036    0.000 {built-in method numpy.core._multiarray_umath.implement_array_function}\n",
       "     1228    0.018    0.000    0.180    0.000 concat.py:306(__init__)\n",
       "     1229    0.017    0.000    0.027    0.000 {pandas._libs.lib.maybe_convert_objects}\n",
       "   119130    0.016    0.000    0.016    0.000 {built-in method builtins.getattr}\n",
       "     2457    0.015    0.000    0.180    0.000 construction.py:423(sanitize_array)\n",
       "    17192    0.013    0.000    0.036    0.000 common.py:1470(is_extension_array_dtype)\n",
       "     1227    0.012    0.000    0.067    0.000 base.py:250(__new__)\n",
       "    17192    0.012    0.000    0.017    0.000 base.py:411(find)\n",
       "     2455    0.011    0.000    0.068    0.000 concat.py:101(concat_compat)\n",
       "    19654    0.011    0.000    0.011    0.000 {built-in method builtins.hasattr}\n",
       "    13509    0.010    0.000    0.021    0.000 common.py:1610(_is_dtype_type)\n",
       "     2457    0.009    0.000    0.063    0.000 blocks.py:2662(get_block_type)\n",
       "     4999    0.009    0.000    0.024    0.000 base.py:796(__iter__)\n",
       "    19909    0.009    0.000    0.014    0.000 managers.py:1626(internal_values)\n",
       "     4913    0.008    0.000    0.026    0.000 generic.py:5464(__setattr__)\n",
       "42995/36851    0.008    0.000    0.011    0.000 {built-in method builtins.len}\n",
       "     2455    0.008    0.000    0.013    0.000 concat.py:24(_get_dtype_kinds)\n",
       "    13509    0.008    0.000    0.036    0.000 base.py:254(is_dtype)\n",
       "     1228    0.007    0.000    0.235    0.000 concat.py:469(get_result)\n",
       "     2457    0.007    0.000    0.009    0.000 generic.py:187(__init__)\n",
       "     1228    0.007    0.000    0.018    0.000 numeric.py:2392(array_equal)\n",
       "    56495    0.007    0.000    0.007    0.000 {built-in method builtins.issubclass}\n",
       "     1228    0.007    0.000    0.007    0.000 {method 'reduce' of 'numpy.ufunc' objects}\n",
       "     2458    0.007    0.000    0.007    0.000 {built-in method numpy.empty}\n",
       "     1228    0.006    0.000    0.018    0.000 cast.py:1257(maybe_castable)\n",
       "     8598    0.006    0.000    0.006    0.000 {built-in method numpy.array}\n",
       "    19909    0.006    0.000    0.021    0.000 series.py:556(_values)\n",
       "     2457    0.006    0.000    0.013    0.000 blocks.py:127(__init__)\n",
       "     7370    0.006    0.000    0.017    0.000 base.py:5953(maybe_extract_name)\n",
       "     7371    0.006    0.000    0.019    0.000 common.py:201(is_object_dtype)\n",
       "     2457    0.005    0.000    0.083    0.000 blocks.py:2711(make_block)\n",
       "     1229    0.005    0.000    0.023    0.000 cast.py:1379(maybe_cast_to_datetime)\n",
       "    11054    0.005    0.000    0.015    0.000 <frozen importlib._bootstrap>:1009(_handle_fromlist)\n",
       "     6146    0.005    0.000    0.009    0.000 {pandas._libs.lib.is_list_like}\n",
       "     2457    0.005    0.000    0.093    0.000 managers.py:1577(from_array)\n",
       "     1229    0.005    0.000    0.020    0.000 range.py:85(__new__)\n",
       "     1228    0.004    0.000    0.015    0.000 numeric.py:47(__new__)\n",
       "     4913    0.004    0.000    0.007    0.000 series.py:459(name)\n",
       "     3684    0.004    0.000    0.014    0.000 dtypes.py:1132(is_dtype)\n",
       "     1228    0.004    0.000    0.427    0.000 series.py:2585(append)\n",
       "     2457    0.004    0.000    0.011    0.000 series.py:509(name)\n",
       "     1229    0.004    0.000    0.009    0.000 cast.py:1617(construct_1d_object_array_from_listlike)\n",
       "     1228    0.004    0.000    0.063    0.000 construction.py:554(_try_cast)\n",
       "     6138    0.004    0.000    0.022    0.000 {built-in method builtins.any}\n",
       "     1228    0.004    0.000    0.122    0.000 base.py:4330(append)\n",
       "     1228    0.004    0.000    0.012    0.000 _dtype.py:321(_name_get)\n",
       "     8603    0.004    0.000    0.004    0.000 {built-in method _abc._abc_instancecheck}\n",
       "     1227    0.004    0.000    0.115    0.000 base.py:4358(_concat)\n",
       "     9828    0.004    0.000    0.005    0.000 inference.py:322(is_hashable)\n",
       "     1229    0.003    0.000    0.003    0.000 {built-in method numpy.arange}\n",
       "     2457    0.003    0.000    0.008    0.000 common.py:231(is_sparse)\n",
       "     1228    0.003    0.000    0.418    0.000 concat.py:82(concat)\n",
       "    19909    0.003    0.000    0.003    0.000 managers.py:1588(_block)\n",
       "     6145    0.003    0.000    0.010    0.000 {built-in method builtins.all}\n",
       "     1229    0.003    0.000    0.025    0.000 base.py:5947(default_index)\n",
       "     3684    0.003    0.000    0.013    0.000 dtypes.py:923(is_dtype)\n",
       "     4911    0.003    0.000    0.015    0.000 common.py:537(is_categorical_dtype)\n",
       "     1229    0.003    0.000    0.040    0.000 cast.py:109(maybe_convert_platform)\n",
       "     2457    0.003    0.000    0.003    0.000 blocks.py:269(mgr_locs)\n",
       "     2457    0.003    0.000    0.003    0.000 generic.py:5446(__getattr__)\n",
       "     4911    0.003    0.000    0.017    0.000 common.py:499(is_interval_dtype)\n",
       "     2457    0.003    0.000    0.003    0.000 managers.py:1545(__init__)\n",
       "     4911    0.003    0.000    0.016    0.000 common.py:463(is_period_dtype)\n",
       "     2456    0.003    0.000    0.018    0.000 <__array_function__ internals>:2(concatenate)\n",
       "     3683    0.003    0.000    0.004    0.000 common.py:195(<lambda>)\n",
       "     7365    0.003    0.000    0.013    0.000 concat.py:139(<genexpr>)\n",
       "     1229    0.003    0.000    0.007    0.000 range.py:152(_data)\n",
       "     1229    0.003    0.000    0.008    0.000 range.py:133(_simple_new)\n",
       "     2456    0.003    0.000    0.008    0.000 generic.py:5519(_protect_consolidate)\n",
       "    19909    0.002    0.000    0.002    0.000 blocks.py:233(internal_values)\n",
       "     1229    0.002    0.000    0.010    0.000 numeric.py:288(full)\n",
       "     9826    0.002    0.000    0.004    0.000 common.py:187(<lambda>)\n",
       "     2457    0.002    0.000    0.004    0.000 common.py:573(is_string_dtype)\n",
       "     1228    0.002    0.000    0.027    0.000 cast.py:1677(maybe_cast_to_integer_array)\n",
       "     8603    0.002    0.000    0.006    0.000 abc.py:137(__instancecheck__)\n",
       "     2457    0.002    0.000    0.003    0.000 series.py:410(_set_axis)\n",
       "     9826    0.002    0.000    0.002    0.000 common.py:185(classes)\n",
       "     1229    0.002    0.000    0.004    0.000 base.py:425(_simple_new)\n",
       "     1228    0.002    0.000    0.008    0.000 generic.py:5408(__finalize__)\n",
       "     4910    0.002    0.000    0.002    0.000 concat.py:119(is_nonempty)\n",
       "     1228    0.002    0.000    0.002    0.000 {method 'astype' of 'numpy.ndarray' objects}\n",
       "     2458    0.002    0.000    0.002    0.000 base.py:563(_reset_identity)\n",
       "     2457    0.002    0.000    0.002    0.000 flags.py:47(__init__)\n",
       "     1228    0.002    0.000    0.131    0.000 concat.py:535(_get_new_axes)\n",
       "     1228    0.002    0.000    0.127    0.000 concat.py:552(_get_concat_axis)\n",
       "     6141    0.002    0.000    0.006    0.000 _asarray.py:23(asarray)\n",
       "     2454    0.002    0.000    0.004    0.000 common.py:429(is_timedelta64_dtype)\n",
       "     1228    0.002    0.000    0.002    0.000 common.py:64(consensus_name_attr)\n",
       "     2458    0.002    0.000    0.007    0.000 common.py:1743(validate_all_hashable)\n",
       "     1228    0.002    0.000    0.007    0.000 concat.py:391(<listcomp>)\n",
       "     1229    0.002    0.000    0.015    0.000 cast.py:1273(maybe_infer_to_datetimelike)\n",
       "     2456    0.002    0.000    0.006    0.000 common.py:703(is_integer_dtype)\n",
       "     1229    0.002    0.000    0.004    0.000 inference.py:263(is_dict_like)\n",
       "     2456    0.002    0.000    0.003    0.000 numerictypes.py:285(issubclass_)\n",
       "     3684    0.002    0.000    0.003    0.000 generic.py:5440(<genexpr>)\n",
       "     1228    0.002    0.000    0.005    0.000 numerictypes.py:359(issubdtype)\n",
       "     9828    0.002    0.000    0.002    0.000 {built-in method builtins.hash}\n",
       "     2456    0.002    0.000    0.005    0.000 generic.py:5535(f)\n",
       "     2457    0.002    0.000    0.007    0.000 construction.py:612(is_empty_data)\n",
       "     2458    0.002    0.000    0.002    0.000 common.py:157(ensure_python_int)\n",
       "     2457    0.002    0.000    0.003    0.000 common.py:1769(pandas_dtype)\n",
       "     2457    0.002    0.000    0.008    0.000 base.py:4070(_values)\n",
       "     2455    0.002    0.000    0.004    0.000 concat.py:130(<listcomp>)\n",
       "     4916    0.002    0.000    0.003    0.000 common.py:1762(<genexpr>)\n",
       "     2457    0.002    0.000    0.007    0.000 construction.py:354(extract_array)\n",
       "     2456    0.002    0.000    0.009    0.000 generic.py:5531(_consolidate_inplace)\n",
       "     1228    0.002    0.000    0.006    0.000 _dtype.py:307(_name_includes_bit_suffix)\n",
       "     2456    0.002    0.000    0.005    0.000 base.py:386(shape)\n",
       "     4910    0.001    0.000    0.002    0.000 concat.py:135(<genexpr>)\n",
       "     1228    0.001    0.000    0.123    0.000 concat.py:609(_concat_indexes)\n",
       "     2457    0.001    0.000    0.008    0.000 common.py:388(is_datetime64tz_dtype)\n",
       "     3684    0.001    0.000    0.002    0.000 base.py:600(__len__)\n",
       "     1228    0.001    0.000    0.003    0.000 series.py:397(_constructor_expanddim)\n",
       "     1228    0.001    0.000    0.003    0.000 common.py:1307(is_float_dtype)\n",
       "     1229    0.001    0.000    0.002    0.000 common.py:170(all_none)\n",
       "     1228    0.001    0.000    0.001    0.000 flags.py:83(allows_duplicate_labels)\n",
       "     2455    0.001    0.000    0.001    0.000 concat.py:138(<setcomp>)\n",
       "     1228    0.001    0.000    0.128    0.000 concat.py:538(<listcomp>)\n",
       "     1228    0.001    0.000    0.002    0.000 base.py:4353(<setcomp>)\n",
       "     2454    0.001    0.000    0.002    0.000 common.py:912(is_datetime64_any_dtype)\n",
       "     3684    0.001    0.000    0.002    0.000 common.py:1575(get_dtype)\n",
       "     1227    0.001    0.000    0.004    0.000 common.py:757(is_signed_integer_dtype)\n",
       "     1228    0.001    0.000    0.001    0.000 {method 'format' of 'str' objects}\n",
       "     1229    0.001    0.000    0.004    0.000 base.py:1239(name)\n",
       "     2457    0.001    0.000    0.001    0.000 blocks.py:161(_check_ndim)\n",
       "     1228    0.001    0.000    0.020    0.000 <__array_function__ internals>:2(array_equal)\n",
       "     1229    0.001    0.000    0.003    0.000 <__array_function__ internals>:2(copyto)\n",
       "     1228    0.001    0.000    0.004    0.000 concat.py:482(<listcomp>)\n",
       "     7366    0.001    0.000    0.001    0.000 {method 'add' of 'set' objects}\n",
       "     2458    0.001    0.000    0.001    0.000 {built-in method __new__ of type object at 0x559019893240}\n",
       "     1228    0.001    0.000    0.002    0.000 common.py:615(is_dtype_equal)\n",
       "     1228    0.001    0.000    0.001    0.000 concat.py:558(<listcomp>)\n",
       "     1229    0.001    0.000    0.002    0.000 common.py:254(maybe_iterable_to_list)\n",
       "     2455    0.001    0.000    0.001    0.000 {method 'startswith' of 'str' objects}\n",
       "     1228    0.001    0.000    0.002    0.000 generic.py:339(_validate_dtype)\n",
       "     2458    0.001    0.000    0.001    0.000 inference.py:289(<genexpr>)\n",
       "     2460    0.001    0.000    0.001    0.000 range.py:747(__len__)\n",
       "     2457    0.001    0.000    0.002    0.000 common.py:1551(_is_dtype)\n",
       "     1228    0.001    0.000    0.002    0.000 cast.py:1642(construct_1d_ndarray_preserving_na)\n",
       "     2456    0.001    0.000    0.001    0.000 managers.py:975(consolidate)\n",
       "     1227    0.001    0.000    0.009    0.000 base.py:4362(<listcomp>)\n",
       "     1228    0.001    0.000    0.008    0.000 {method 'all' of 'numpy.ndarray' objects}\n",
       "     1228    0.001    0.000    0.001    0.000 concat.py:529(_get_result_dim)\n",
       "     3684    0.001    0.000    0.001    0.000 common.py:160(<genexpr>)\n",
       "     2456    0.001    0.000    0.002    0.000 series.py:2662(<genexpr>)\n",
       "     3683    0.001    0.000    0.001    0.000 common.py:190(classes_and_not_datetimelike)\n",
       "     3685    0.001    0.000    0.001    0.000 base.py:1232(name)\n",
       "     2456    0.001    0.000    0.001    0.000 {built-in method builtins.sum}\n",
       "     3684    0.001    0.000    0.001    0.000 generic.py:247(flags)\n",
       "     1228    0.001    0.000    0.001    0.000 common.py:602(condition)\n",
       "     1228    0.001    0.000    0.007    0.000 _methods.py:59(_all)\n",
       "     4912    0.001    0.000    0.001    0.000 base.py:397(ndim)\n",
       "     2458    0.001    0.000    0.001    0.000 common.py:174(<genexpr>)\n",
       "     1228    0.001    0.000    0.001    0.000 common.py:156(not_none)\n",
       "     1228    0.001    0.000    0.001    0.000 generic.py:455(_get_axis_number)\n",
       "     1228    0.001    0.000    0.001    0.000 _dtype.py:24(_kind_name)\n",
       "     2456    0.000    0.000    0.000    0.000 flags.py:51(allows_duplicate_labels)\n",
       "     1228    0.000    0.000    0.001    0.000 base.py:5836(ensure_index)\n",
       "     2457    0.000    0.000    0.000    0.000 numeric.py:78(_validate_dtype)\n",
       "     2456    0.000    0.000    0.000    0.000 multiarray.py:143(concatenate)\n",
       "     2457    0.000    0.000    0.000    0.000 blocks.py:265(mgr_locs)\n",
       "     2458    0.000    0.000    0.000    0.000 {pandas._libs.lib.is_scalar}\n",
       "     2457    0.000    0.000    0.000    0.000 numeric.py:164(_is_all_dates)\n",
       "     1229    0.000    0.000    0.000    0.000 range.py:207(start)\n",
       "     1228    0.000    0.000    0.000    0.000 concat.py:602(_maybe_check_integrity)\n",
       "     2458    0.000    0.000    0.000    0.000 typing.py:1474(new_type)\n",
       "     2457    0.000    0.000    0.000    0.000 blocks.py:147(_maybe_coerce_values)\n",
       "     2457    0.000    0.000    0.000    0.000 typing.py:898(cast)\n",
       "     2456    0.000    0.000    0.000    0.000 managers.py:1634(is_consolidated)\n",
       "     1229    0.000    0.000    0.000    0.000 multiarray.py:1054(copyto)\n",
       "     1229    0.000    0.000    0.000    0.000 range.py:230(stop)\n",
       "     1228    0.000    0.000    0.000    0.000 numeric.py:2388(_array_equal_dispatcher)\n",
       "     1228    0.000    0.000    0.000    0.000 series.py:393(_constructor)\n",
       "     1229    0.000    0.000    0.000    0.000 range.py:253(step)\n",
       "        1    0.000    0.000    0.679    0.679 {built-in method builtins.exec}\n",
       "        1    0.000    0.000    0.000    0.000 range.py:694(_concat)\n",
       "        1    0.000    0.000    0.000    0.000 base.py:510(_shallow_copy)\n",
       "        1    0.000    0.000    0.000    0.000 base.py:1284(_set_names)\n",
       "        1    0.000    0.000    0.000    0.000 base.py:1313(set_names)\n",
       "        1    0.000    0.000    0.679    0.679 <string>:1(<module>)\n",
       "        3    0.000    0.000    0.000    0.000 range.py:703(<genexpr>)\n",
       "        1    0.000    0.000    0.000    0.000 numeric.py:107(_shallow_copy)\n",
       "        1    0.000    0.000    0.000    0.000 range.py:722(<listcomp>)\n",
       "        1    0.000    0.000    0.000    0.000 base.py:1392(rename)\n",
       "        1    0.000    0.000    0.000    0.000 range.py:709(<listcomp>)\n",
       "        1    0.000    0.000    0.000    0.000 {method 'disable' of '_lsprof.Profiler' objects}"
      ]
     },
     "metadata": {},
     "output_type": "display_data"
    }
   ],
   "source": [
    "%prun calculate_primes(container='pandas')"
   ]
  },
  {
   "cell_type": "markdown",
   "id": "797f4505",
   "metadata": {},
   "source": [
    "This is a little bit ridiculous. It's clear why it takes fifty times as long to use pandas as base Python in this instance; there are over a million function calls"
   ]
  },
  {
   "cell_type": "markdown",
   "id": "1f9ef77e",
   "metadata": {},
   "source": [
    "## Takeaway\n",
    "\n",
    "The takeaway is not that you should not use `numpy` or `pandas`! Quite the contrary, both of these libraries provide data containers with an enormous number of convenient built-in functionality. Moreover, neither of these containers are optimised with appending in mind; they are very fast for vectorised matrix operations. If we had a different task, they would likely outperform nested lists or deques.\n",
    "\n",
    "Deques are probably the best base Python object for this kind of task (there may be others I don't know about). But most of our savings came from writing simply more efficient code.\n",
    "\n",
    "Obviously, writing efficient code takes time and effort. You need to think through all of the little puzzles of your task, and this is a distraction when you are simply trying to prototype some task. At the end of the day, as a relatively new coder, you will spend far more time writing your code than waiting for it to finish executing. This is part of the beauty of Python! It's very easy to prototype code.\n",
    "\n",
    "My advice is to keep in mind whether steps you are taking are redundant, and to determine whether avoiding such redundancy is simple. If it will only take 5 minutes to implement some logic to avoid millions of pointless operations, then do it! Otherwise consider carefully whether learning `C++` is a good use of your time."
   ]
  }
 ],
 "metadata": {
  "kernelspec": {
   "display_name": "Python 3",
   "language": "python",
   "name": "python3"
  },
  "language_info": {
   "codemirror_mode": {
    "name": "ipython",
    "version": 3
   },
   "file_extension": ".py",
   "mimetype": "text/x-python",
   "name": "python",
   "nbconvert_exporter": "python",
   "pygments_lexer": "ipython3",
   "version": "3.7.9"
  }
 },
 "nbformat": 4,
 "nbformat_minor": 5
}
